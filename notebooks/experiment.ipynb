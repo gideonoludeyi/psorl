{
 "cells": [
  {
   "cell_type": "code",
   "execution_count": null,
   "id": "eb8af09c",
   "metadata": {},
   "outputs": [
    {
     "name": "stdout",
     "output_type": "stream",
     "text": [
      "Timestep: 0512000, Performance: 1004.8430545177064\n",
      "Timestep: 1024000, Performance: 1019.6037514797232\n",
      "Timestep: 1536000, Performance: 1019.6037514797232\n",
      "Timestep: 2048000, Performance: 1019.6037514797232\n"
     ]
    },
    {
     "ename": "AttributeError",
     "evalue": "'TheProblem' object has no attribute 'V_max'",
     "output_type": "error",
     "traceback": [
      "\u001b[31m---------------------------------------------------------------------------\u001b[39m",
      "\u001b[31mAttributeError\u001b[39m                            Traceback (most recent call last)",
      "\u001b[36mCell\u001b[39m\u001b[36m \u001b[39m\u001b[32mIn[1]\u001b[39m\u001b[32m, line 9\u001b[39m\n\u001b[32m      5\u001b[39m seed = \u001b[32m0\u001b[39m\n\u001b[32m      7\u001b[39m device = torch.device(\u001b[33m\"\u001b[39m\u001b[33mcuda\u001b[39m\u001b[33m\"\u001b[39m \u001b[38;5;28;01mif\u001b[39;00m torch.cuda.is_available() \u001b[38;5;28;01melse\u001b[39;00m \u001b[33m\"\u001b[39m\u001b[33mcpu\u001b[39m\u001b[33m\"\u001b[39m)\n\u001b[32m----> \u001b[39m\u001b[32m9\u001b[39m \u001b[43mexperiment\u001b[49m\u001b[43m(\u001b[49m\u001b[43menv_name\u001b[49m\u001b[43m=\u001b[49m\u001b[33;43m\"\u001b[39;49m\u001b[33;43mAnt-v5\u001b[39;49m\u001b[33;43m\"\u001b[39;49m\u001b[43m,\u001b[49m\u001b[43m \u001b[49m\u001b[43mnum_agents\u001b[49m\u001b[43m=\u001b[49m\u001b[32;43m256\u001b[39;49m\u001b[43m,\u001b[49m\u001b[43m \u001b[49m\u001b[43mmax_timesteps\u001b[49m\u001b[43m=\u001b[49m\u001b[32;43m6_000_000\u001b[39;49m\u001b[43m,\u001b[49m\u001b[43m \u001b[49m\u001b[43mbatch_size\u001b[49m\u001b[43m=\u001b[49m\u001b[32;43m128\u001b[39;49m\u001b[43m,\u001b[49m\n\u001b[32m     10\u001b[39m \u001b[43m           \u001b[49m\u001b[43mexploration_ratio\u001b[49m\u001b[43m=\u001b[49m\u001b[32;43m0.25\u001b[39;49m\u001b[43m,\u001b[49m\u001b[43m \u001b[49m\u001b[43minertia_weight\u001b[49m\u001b[43m=\u001b[49m\u001b[32;43m0\u001b[39;49m\u001b[43m,\u001b[49m\u001b[43m \u001b[49m\u001b[43msocial_weight\u001b[49m\u001b[43m=\u001b[49m\u001b[32;43m1\u001b[39;49m\u001b[43m,\u001b[49m\u001b[43m \u001b[49m\u001b[43mcognitive_weight\u001b[49m\u001b[43m=\u001b[49m\u001b[32;43m1\u001b[39;49m\u001b[43m,\u001b[49m\n\u001b[32m     11\u001b[39m \u001b[43m           \u001b[49m\u001b[43mseed\u001b[49m\u001b[43m=\u001b[49m\u001b[43mseed\u001b[49m\u001b[43m,\u001b[49m\u001b[43m \u001b[49m\u001b[43mdevice\u001b[49m\u001b[43m=\u001b[49m\u001b[43mdevice\u001b[49m\u001b[43m,\u001b[49m\u001b[43m \u001b[49m\u001b[43mverbose\u001b[49m\u001b[43m=\u001b[49m\u001b[38;5;28;43;01mTrue\u001b[39;49;00m\u001b[43m)\u001b[49m\n\u001b[32m     13\u001b[39m \u001b[38;5;66;03m# td3_experiment(env_name=\"Ant-v5\", max_timesteps=6_000_000, batch_size=128,\u001b[39;00m\n\u001b[32m     14\u001b[39m \u001b[38;5;66;03m#                seed=seed, device=device, verbose=True)\u001b[39;00m\n",
      "\u001b[36mFile \u001b[39m\u001b[32m~/src/github.com/psorl/src/psorl/experiment_2.py:169\u001b[39m, in \u001b[36mexperiment\u001b[39m\u001b[34m(env_name, num_agents, max_timesteps, exploration_ratio, replay_buffer_capacity, batch_size, discount, tau, policy_noise, noise_clip, policy_freq, inertia_weight, cognitive_weight, social_weight, device, seed, out, **kwargs)\u001b[39m\n\u001b[32m    167\u001b[39m         P_X = pbests.get(\u001b[33m\"\u001b[39m\u001b[33mX\u001b[39m\u001b[33m\"\u001b[39m)\n\u001b[32m    168\u001b[39m         S_X = pbests.get(\u001b[33m\"\u001b[39m\u001b[33mX\u001b[39m\u001b[33m\"\u001b[39m)\n\u001b[32m--> \u001b[39m\u001b[32m169\u001b[39m         X, V = pso_update(X, P_X, S_X, V, \u001b[43mproblem\u001b[49m\u001b[43m.\u001b[49m\u001b[43mV_max\u001b[49m, random_state=random_state)\n\u001b[32m    171\u001b[39m \u001b[38;5;28;01mreturn\u001b[39;00m pso.result()\n",
      "\u001b[31mAttributeError\u001b[39m: 'TheProblem' object has no attribute 'V_max'"
     ]
    }
   ],
   "source": [
    "import torch\n",
    "from psorl.experiment_1 import experiment\n",
    "from psorl.td3_experiment import td3_experiment\n",
    "\n",
    "seed = 0\n",
    "\n",
    "device = torch.device(\"cuda\" if torch.cuda.is_available() else \"cpu\")\n",
    "\n",
    "experiment(env_name=\"Ant-v5\", num_agents=256, max_timesteps=6_000_000, batch_size=128,\n",
    "           exploration_ratio=0.25, inertia_weight=0, social_weight=1, cognitive_weight=1,\n",
    "           seed=seed, device=device, verbose=True)\n",
    "\n",
    "# td3_experiment(env_name=\"Ant-v5\", max_timesteps=6_000_000, batch_size=128,\n",
    "#                seed=seed, device=device, verbose=True)"
   ]
  }
 ],
 "metadata": {
  "kernelspec": {
   "display_name": "psorl",
   "language": "python",
   "name": "python3"
  },
  "language_info": {
   "codemirror_mode": {
    "name": "ipython",
    "version": 3
   },
   "file_extension": ".py",
   "mimetype": "text/x-python",
   "name": "python",
   "nbconvert_exporter": "python",
   "pygments_lexer": "ipython3",
   "version": "3.12.9"
  }
 },
 "nbformat": 4,
 "nbformat_minor": 5
}
